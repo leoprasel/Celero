{
 "cells": [
  {
   "cell_type": "code",
   "execution_count": null,
   "metadata": {},
   "outputs": [],
   "source": [
    "modo = input(\"Digite 1 para modo treino e 2 para modo execução \\n\")\n",
    "\n",
    "path = input(\"Diretório da pasta de treino:\\n\")\n",
    "input_eval = int(input(\"Positivo(1) ou negativo(-1)?\\n\"))\n",
    "second_path = input(\"Diretório da pasta de treino:\\n\")\n",
    "\n",
    "other_eval = \"negativa\" if evaluation == 1 else \"positiva\"\n",
    "input_string = \"Caminho da pasta \" + other_eval + ':\\n'\n",
    "other_path = input(input_string)"
   ]
  },
  {
   "cell_type": "code",
   "execution_count": 1,
   "metadata": {},
   "outputs": [
    {
     "name": "stderr",
     "output_type": "stream",
     "text": [
      "[nltk_data] Downloading package stopwords to\n",
      "[nltk_data]     C:\\Users\\Leo\\AppData\\Roaming\\nltk_data...\n",
      "[nltk_data]   Package stopwords is already up-to-date!\n"
     ]
    }
   ],
   "source": [
    "#Importing libraries\n",
    "import numpy as np\n",
    "import pandas as pd\n",
    "import os\n",
    "import re\n",
    "import nltk\n",
    "nltk.download('stopwords')\n",
    "from nltk.corpus import stopwords\n",
    "from nltk.stem.porter import PorterStemmer\n",
    "from datetime import datetime\n",
    "from sklearn.metrics import confusion_matrix\n",
    "from sklearn.metrics import classification_report\n",
    "from sklearn.metrics import accuracy_score"
   ]
  },
  {
   "cell_type": "code",
   "execution_count": 2,
   "metadata": {},
   "outputs": [
    {
     "name": "stdout",
     "output_type": "stream",
     "text": [
      "2021-02-10 23:52:25.730118\n"
     ]
    }
   ],
   "source": [
    "train_path_neg = r'D:\\Leo\\Área de Trabalho\\Python\\Celero\\Celero\\Database\\train\\neg\\\\'\n",
    "train_path_pos = r'D:\\Leo\\Área de Trabalho\\Python\\Celero\\Celero\\Database\\train\\pos\\\\'\n",
    "test_path_neg = r'D:\\Leo\\Área de Trabalho\\Python\\Celero\\Celero\\Database\\test\\neg\\\\'\n",
    "test_path_pos = r'D:\\Leo\\Área de Trabalho\\Python\\Celero\\Celero\\Database\\test\\pos\\\\'\n",
    "\n",
    "print(datetime.now())\n",
    "def read_files(files_path, evaluation, mode):\n",
    "    text_list = []\n",
    "    for file in os.listdir(files_path):\n",
    "        file_review = open(files_path + file,'r', encoding='utf8').read()\n",
    "        text_list.append(file_review)\n",
    "    \n",
    "    df = pd.DataFrame(np.array(text_list),columns=['text'])\n",
    "    df['evaluation'] = evaluation\n",
    "    df['mode'] = mode\n",
    "    return df\n",
    "\n",
    "train_neg_df = read_files(train_path_neg, -1, \"train\")\n",
    "train_pos_df = read_files(train_path_pos, 1, \"train\")\n",
    "\n",
    "test_neg_df = read_files(test_path_neg, -1, 'test')\n",
    "test_pos_df = read_files(test_path_pos, 1, 'test')\n",
    "\n",
    "df = pd.concat([train_neg_df, train_pos_df, test_neg_df, test_pos_df]).reset_index(drop=True)"
   ]
  },
  {
   "cell_type": "code",
   "execution_count": 8,
   "metadata": {},
   "outputs": [
    {
     "name": "stdout",
     "output_type": "stream",
     "text": [
      "2021-02-11 00:26:51.418970\n",
      "2021-02-11 00:29:51.664333\n"
     ]
    }
   ],
   "source": [
    "print(datetime.now())\n",
    "df.text = df.text.astype(str).str.replace(r'<.*?>',' ')\n",
    "#df.text = df.text.astype(str).str.replace('[^a-zA-Z]',' ').str.lower().str.split()\n",
    "df.text = df.text.astype(str).str.lower().str.split()\n",
    "\n",
    "ps = PorterStemmer()\n",
    "df['stemmed_text'] = df.text.apply(lambda x: [ps.stem(word) for word in x])\n",
    "df['stemmed_text'] = df['stemmed_text'].str.join(' ')\n",
    "print(datetime.now())"
   ]
  },
  {
   "cell_type": "code",
   "execution_count": 9,
   "metadata": {},
   "outputs": [
    {
     "name": "stderr",
     "output_type": "stream",
     "text": [
      "C:\\Users\\Leo\\Anaconda3\\lib\\site-packages\\sklearn\\svm\\base.py:929: ConvergenceWarning: Liblinear failed to converge, increase the number of iterations.\n",
      "  \"the number of iterations.\", ConvergenceWarning)\n"
     ]
    },
    {
     "name": "stdout",
     "output_type": "stream",
     "text": [
      "0.5286\n",
      "[[9057 3443]\n",
      " [8342 4158]]\n",
      "              precision    recall  f1-score   support\n",
      "\n",
      "          -1       0.52      0.72      0.61     12500\n",
      "           1       0.55      0.33      0.41     12500\n",
      "\n",
      "    accuracy                           0.53     25000\n",
      "   macro avg       0.53      0.53      0.51     25000\n",
      "weighted avg       0.53      0.53      0.51     25000\n",
      "\n"
     ]
    }
   ],
   "source": [
    "from sklearn.feature_extraction.text import CountVectorizer\n",
    "cv = CountVectorizer(stop_words=\"english\", max_features = 2000)\n",
    "x_train = cv.fit_transform(df[df['mode']=='train']['stemmed_text']).toarray()\n",
    "x_test = cv.fit_transform(df[df['mode']=='test']['stemmed_text']).toarray()\n",
    "y_train = df[df['mode']=='train']['evaluation']\n",
    "y_test = df[df['mode']=='test']['evaluation']\n",
    "\n",
    "from sklearn.svm import LinearSVC\n",
    "model = LinearSVC()\n",
    "model.fit(x_train, y_train)\n",
    "y_pred = model.predict(x_test)\n",
    "\n",
    "print(accuracy_score(y_test, y_pred))\n",
    "print(confusion_matrix(y_test, y_pred))\n",
    "print(classification_report(y_test, y_pred))"
   ]
  },
  {
   "cell_type": "markdown",
   "metadata": {},
   "source": [
    "from sklearn.naive_bayes import GaussianNB\n",
    "classifier = GaussianNB()\n",
    "classifier.fit(x_train, y_train)\n",
    "y_pred = classifier.predict(x_test)"
   ]
  },
  {
   "cell_type": "markdown",
   "metadata": {},
   "source": [
    "inv_vocab = {v: k for k, v in cv.vocabulary_.items()}\n",
    "vocabulary = [inv_vocab[i] for i in range(len(inv_vocab))]\n",
    "vocabulary"
   ]
  },
  {
   "cell_type": "markdown",
   "metadata": {},
   "source": [
    "\n",
    "print(accuracy_score(y_test, y_pred))\n",
    "print(confusion_matrix(y_test, y_pred))\n",
    "print(classification_report(y_test, y_pred))"
   ]
  },
  {
   "cell_type": "code",
   "execution_count": null,
   "metadata": {},
   "outputs": [],
   "source": []
  }
 ],
 "metadata": {
  "kernelspec": {
   "display_name": "Python 3",
   "language": "python",
   "name": "python3"
  },
  "language_info": {
   "codemirror_mode": {
    "name": "ipython",
    "version": 3
   },
   "file_extension": ".py",
   "mimetype": "text/x-python",
   "name": "python",
   "nbconvert_exporter": "python",
   "pygments_lexer": "ipython3",
   "version": "3.7.3"
  }
 },
 "nbformat": 4,
 "nbformat_minor": 2
}
